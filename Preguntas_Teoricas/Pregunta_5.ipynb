{
 "cells": [
  {
   "cell_type": "markdown",
   "metadata": {},
   "source": [
    "El patrón de diseño Observer es útil en situaciones donde uno o varios objetos necesitan ser notificados sobre cambios en el estado de otro objeto. En ingeniería matemática, este patrón puede aplicarse en escenarios de modelos de simulación o monitoreo de datos, donde ciertas entidades deben actualizarse en tiempo real cuando los parámetros cambian.\n",
    "\n",
    "## Ejemplo en el Contexto de Ingeniería Matemática\n",
    "Imaginemos una situación donde estamos realizando una simulación de parámetros físicos (por ejemplo, temperatura, presión y volumen) y queremos que diferentes componentes (como gráficos o modelos matemáticos) respondan automáticamente a cambios en el valor de temperatura.\n",
    "\n",
    "Cuando el valor de la temperatura cambia, se pueden disparar actualizaciones en las visualizaciones, cálculos de eficiencia energética o ajustes en otros parámetros físicos dependientes. El patrón Observer permite sincronizar automáticamente todas las dependencias para que reaccionen en tiempo real a estos cambios."
   ]
  },
  {
   "cell_type": "code",
   "execution_count": null,
   "metadata": {},
   "outputs": [],
   "source": [
    "from abc import ABC, abstractmethod\n",
    "\n",
    "class Observer(ABC):\n",
    "    @abstractmethod\n",
    "    def update(self, temperature):\n",
    "        pass\n",
    "\n",
    "class Observable:\n",
    "    def __init__(self):\n",
    "        self._observers = []\n",
    "\n",
    "    def add_observer(self, observer):\n",
    "        self._observers.append(observer)\n",
    "\n",
    "    def remove_observer(self, observer):\n",
    "        self._observers.remove(observer)\n",
    "\n",
    "    def notify_observers(self, temperature):\n",
    "        for observer in self._observers:\n",
    "            observer.update(temperature)"
   ]
  },
  {
   "cell_type": "code",
   "execution_count": null,
   "metadata": {},
   "outputs": [],
   "source": [
    "class TemperatureSensor(Observable):\n",
    "    def __init__(self):\n",
    "        super().__init__()\n",
    "        self._temperature = 0\n",
    "\n",
    "    @property\n",
    "    def temperature(self):\n",
    "        return self._temperature\n",
    "\n",
    "    @temperature.setter\n",
    "    def temperature(self, value):\n",
    "        self._temperature = value\n",
    "        self.notify_observers(value)"
   ]
  },
  {
   "cell_type": "code",
   "execution_count": null,
   "metadata": {},
   "outputs": [],
   "source": [
    "class Graph(Observer):\n",
    "    def update(self, temperature):\n",
    "        print(f\"Graph updated: New temperature is {temperature}°C\")\n",
    "\n",
    "class EfficiencyModel(Observer):\n",
    "    def update(self, temperature):\n",
    "        efficiency = 100 - (temperature * 0.5)  # Un cálculo simple de eficiencia\n",
    "        print(f\"Efficiency Model updated: Efficiency is now {efficiency}%\")"
   ]
  }
 ],
 "metadata": {
  "kernelspec": {
   "display_name": "Python 3",
   "language": "python",
   "name": "python3"
  },
  "language_info": {
   "name": "python",
   "version": "3.10.11"
  }
 },
 "nbformat": 4,
 "nbformat_minor": 2
}
