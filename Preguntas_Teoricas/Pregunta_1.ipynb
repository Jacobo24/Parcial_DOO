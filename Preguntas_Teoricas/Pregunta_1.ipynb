{
 "cells": [
  {
   "cell_type": "markdown",
   "metadata": {},
   "source": [
    "Imaginemos una aplicación que calcula el descuento en diferentes productos según su categoría. Inicialmente, tenemos dos tipos de productos: productos regulares y productos promocionales.\n",
    "En este ejemplo, si queremos agregar una nueva categoría de producto, como “especial”, tendríamos que modificar el método calculate_discount para incluir otra condición elif:"
   ]
  },
  {
   "cell_type": "code",
   "execution_count": null,
   "metadata": {},
   "outputs": [],
   "source": [
    "class DiscountCalculator:\n",
    "    def calculate_discount(self, product_type, price):\n",
    "        if product_type == \"regular\":\n",
    "            return price * 0.9  # 10% de descuento\n",
    "        elif product_type == \"promotional\":\n",
    "            return price * 0.8  # 20% de descuento\n",
    "        elif product_type == \"special\":\n",
    "            return price * 0.7  # 30% de descuento"
   ]
  },
  {
   "cell_type": "markdown",
   "metadata": {},
   "source": [
    "Este enfoque viola el principio Open/Closed porque cada vez que añadimos un nuevo tipo de producto, estamos modificando el código existente del método calculate_discount. Esto puede derivar en errores y hace que el código sea menos mantenible y escalable."
   ]
  },
  {
   "cell_type": "code",
   "execution_count": null,
   "metadata": {},
   "outputs": [],
   "source": [
    "from abc import ABC, abstractmethod\n",
    "\n",
    "# Clase base abstracta para aplicar el descuento\n",
    "class Product(ABC):\n",
    "    def __init__(self, price):\n",
    "        self.price = price\n",
    "\n",
    "    @abstractmethod\n",
    "    def apply_discount(self):\n",
    "        pass\n",
    "\n",
    "# Subclase para productos regulares\n",
    "class RegularProduct(Product):\n",
    "    def apply_discount(self):\n",
    "        return self.price * 0.9  # 10% de descuento\n",
    "\n",
    "# Subclase para productos en promoción\n",
    "class PromotionalProduct(Product):\n",
    "    def apply_discount(self):\n",
    "        return self.price * 0.8  # 20% de descuento\n",
    "\n",
    "# Nueva subclase para productos especiales\n",
    "class SpecialProduct(Product):\n",
    "    def apply_discount(self):\n",
    "        return self.price * 0.7  # 30% de descuento\n",
    "\n",
    "# Ahora podemos calcular el descuento sin modificar la clase original\n",
    "def calculate_discount(product: Product):\n",
    "    return product.apply_discount()"
   ]
  }
 ],
 "metadata": {
  "kernelspec": {
   "display_name": "Python 3",
   "language": "python",
   "name": "python3"
  },
  "language_info": {
   "name": "python",
   "version": "3.10.11"
  }
 },
 "nbformat": 4,
 "nbformat_minor": 2
}
