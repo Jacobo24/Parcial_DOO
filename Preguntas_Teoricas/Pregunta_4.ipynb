{
 "cells": [
  {
   "cell_type": "markdown",
   "metadata": {},
   "source": [
    "Supongamos que tenemos un fragmento de código Python que gestiona cálculos de área para diferentes formas geométricas (círculos, rectángulos y triángulos), pero viola los principios DRY y KISS al incluir código repetitivo y complejidad innecesaria."
   ]
  },
  {
   "cell_type": "code",
   "execution_count": null,
   "metadata": {},
   "outputs": [],
   "source": [
    "import math\n",
    "\n",
    "class ShapeCalculator:\n",
    "    def calculate_circle_area(self, radius):\n",
    "        if radius > 0:\n",
    "            area = math.pi * radius * radius\n",
    "            print(f\"The area of the circle is {area}\")\n",
    "            return area\n",
    "        else:\n",
    "            print(\"Invalid radius\")\n",
    "            return None\n",
    "\n",
    "    def calculate_rectangle_area(self, width, height):\n",
    "        if width > 0 and height > 0:\n",
    "            area = width * height\n",
    "            print(f\"The area of the rectangle is {area}\")\n",
    "            return area\n",
    "        else:\n",
    "            print(\"Invalid dimensions\")\n",
    "            return None\n",
    "\n",
    "    def calculate_triangle_area(self, base, height):\n",
    "        if base > 0 and height > 0:\n",
    "            area = 0.5 * base * height\n",
    "            print(f\"The area of the triangle is {area}\")\n",
    "            return area\n",
    "        else:\n",
    "            print(\"Invalid dimensions\")\n",
    "            return None"
   ]
  },
  {
   "cell_type": "markdown",
   "metadata": {},
   "source": [
    "Para mejorar el código:\n",
    "\n",
    "- Extraemos la validación de parámetros repetitiva y el manejo de la impresión a métodos auxiliares, siguiendo el principio DRY.\n",
    "- Simplificamos los métodos y los hacemos más modulares siguiendo KISS.\n",
    "- Utilizamos un diccionario de funciones para un enfoque más extensible y menos acoplado."
   ]
  },
  {
   "cell_type": "code",
   "execution_count": null,
   "metadata": {},
   "outputs": [],
   "source": [
    "import math\n",
    "\n",
    "class ShapeCalculator:\n",
    "    def __init__(self):\n",
    "        self.area_methods = {\n",
    "            \"circle\": self._circle_area,\n",
    "            \"rectangle\": self._rectangle_area,\n",
    "            \"triangle\": self._triangle_area\n",
    "        }\n",
    "\n",
    "    def calculate_area(self, shape, **kwargs):\n",
    "        if shape in self.area_methods:\n",
    "            return self._print_area(shape, self.area_methods[shape](**kwargs))\n",
    "        else:\n",
    "            print(\"Shape not supported\")\n",
    "            return None\n",
    "\n",
    "    def _print_area(self, shape, area):\n",
    "        if area is not None:\n",
    "            print(f\"The area of the {shape} is {area}\")\n",
    "        else:\n",
    "            print(\"Invalid dimensions\")\n",
    "        return area\n",
    "\n",
    "    def _circle_area(self, radius):\n",
    "        return math.pi * radius * radius if radius > 0 else None\n",
    "\n",
    "    def _rectangle_area(self, width, height):\n",
    "        return width * height if width > 0 and height > 0 else None\n",
    "\n",
    "    def _triangle_area(self, base, height):\n",
    "        return 0.5 * base * height if base > 0 and height > 0 else None"
   ]
  }
 ],
 "metadata": {
  "kernelspec": {
   "display_name": "Python 3",
   "language": "python",
   "name": "python3"
  },
  "language_info": {
   "name": "python",
   "version": "3.10.11"
  }
 },
 "nbformat": 4,
 "nbformat_minor": 2
}
