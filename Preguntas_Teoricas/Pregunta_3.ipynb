{
 "cells": [
  {
   "cell_type": "markdown",
   "metadata": {},
   "source": [
    "El antipatrón God Object se refiere a una clase o componente que concentra demasiadas responsabilidades en una sola unidad de código, convirtiéndose en una clase que \"hace de todo\". Este tipo de clase suele acumular múltiples funcionalidades no relacionadas y detalles de implementación, lo que contraviene el principio de responsabilidad única.\n",
    "\n",
    "El God Object es perjudicial por varias razones:\n",
    "\n",
    "- Difícil de mantener y de probar: Con demasiadas responsabilidades y métodos, el código se vuelve difícil de entender y de mantener. Esto complica la detección de errores y el aseguramiento de calidad en los tests.\n",
    "- Falta de reutilización: La clase está sobrecargada de funcionalidades, lo que limita su capacidad de ser reutilizada en otros contextos.\n",
    "- Alto acoplamiento: Un objeto \"Dios\" suele depender de múltiples otros componentes, y muchas clases externas tienden a depender de él. Esto crea un alto grado de acoplamiento y dificulta la extensibilidad.\n",
    "- Problemas de escalabilidad: A medida que el sistema crece, el God Object se hace más grande, y el riesgo de introducir errores aumenta."
   ]
  },
  {
   "cell_type": "code",
   "execution_count": null,
   "metadata": {},
   "outputs": [],
   "source": [
    "import math\n",
    "import statistics\n",
    "\n",
    "class MathEngine:\n",
    "    def __init__(self):\n",
    "        self.data = []\n",
    "\n",
    "    def add_data(self, value):\n",
    "        self.data.append(value)\n",
    "\n",
    "    # Métodos para álgebra\n",
    "    def add(self, a, b):\n",
    "        return a + b\n",
    "    \n",
    "    def subtract(self, a, b):\n",
    "        return a - b\n",
    "\n",
    "    # Métodos para trigonometría\n",
    "    def sine(self, angle):\n",
    "        return math.sin(angle)\n",
    "    \n",
    "    def cosine(self, angle):\n",
    "        return math.cos(angle)\n",
    "\n",
    "    # Métodos para estadística\n",
    "    def mean(self):\n",
    "        return statistics.mean(self.data)\n",
    "    \n",
    "    def median(self):\n",
    "        return statistics.median(self.data)\n",
    "    \n",
    "    def variance(self):\n",
    "        return statistics.variance(self.data)\n",
    "\n",
    "    # Métodos adicionales para funciones especiales, etc.\n",
    "    def factorial(self, n):\n",
    "        return math.factorial(n)"
   ]
  },
  {
   "cell_type": "markdown",
   "metadata": {},
   "source": [
    "Para refactorizar MathEngine, podemos dividirla en múltiples clases más específicas, cada una con una única responsabilidad. Esto nos ayudará a respetar el principio de responsabilidad única.\n",
    "\n",
    "- Clase Algebra para operaciones algebraicas.\n",
    "- Clase Trigonometry para cálculos trigonométricos.\n",
    "- Clase Statistics para cálculos estadísticos.\n",
    "- Clase SpecialFunctions para funciones matemáticas especiales, como el factorial."
   ]
  },
  {
   "cell_type": "code",
   "execution_count": null,
   "metadata": {},
   "outputs": [],
   "source": [
    "# Clase para operaciones algebraicas\n",
    "class Algebra:\n",
    "    @staticmethod\n",
    "    def add(a, b):\n",
    "        return a + b\n",
    "\n",
    "    @staticmethod\n",
    "    def subtract(a, b):\n",
    "        return a - b\n",
    "\n",
    "# Clase para operaciones trigonométricas\n",
    "class Trigonometry:\n",
    "    @staticmethod\n",
    "    def sine(angle):\n",
    "        return math.sin(angle)\n",
    "\n",
    "    @staticmethod\n",
    "    def cosine(angle):\n",
    "        return math.cos(angle)\n",
    "\n",
    "# Clase para operaciones estadísticas\n",
    "class Statistics:\n",
    "    def __init__(self, data):\n",
    "        self.data = data\n",
    "\n",
    "    def mean(self):\n",
    "        return statistics.mean(self.data)\n",
    "\n",
    "    def median(self):\n",
    "        return statistics.median(self.data)\n",
    "\n",
    "    def variance(self):\n",
    "        return statistics.variance(self.data)\n",
    "\n",
    "# Clase para funciones matemáticas especiales\n",
    "class SpecialFunctions:\n",
    "    @staticmethod\n",
    "    def factorial(n):\n",
    "        return math.factorial(n)"
   ]
  }
 ],
 "metadata": {
  "kernelspec": {
   "display_name": "Python 3",
   "language": "python",
   "name": "python3"
  },
  "language_info": {
   "name": "python",
   "version": "3.10.11"
  }
 },
 "nbformat": 4,
 "nbformat_minor": 2
}
