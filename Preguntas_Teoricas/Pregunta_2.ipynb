{
 "cells": [
  {
   "cell_type": "markdown",
   "metadata": {},
   "source": [
    "El patrón de diseño Factory es un patrón creacional que permite crear objetos sin especificar la clase exacta de estos, delegando la responsabilidad de instanciación a una clase “fábrica”. Este patrón es útil cuando tenemos una superclase con varias subclases y queremos retornar una de estas subclases en función de alguna condición o parámetro.\n",
    "\n",
    "Este patrón es especialmente útil en los siguientes casos:\n",
    "\n",
    "- Cuando se necesita flexibilidad para crear objetos de diferentes clases relacionadas.\n",
    "- Cuando no queremos acoplar el código al uso de una clase específica, sino dejar que el sistema determine qué clase se debe usar en función de ciertos parámetros.\n",
    "- Cuando las clases concretas pueden cambiar con el tiempo o cuando se pueden añadir nuevas clases en el futuro sin necesidad de modificar el código existente.\n",
    "- En problemas matemáticos y de ingeniería, donde se pueden requerir diferentes tipos de funciones, cálculos, o algoritmos, es ideal para crear instancias específicas sin modificar la lógica base."
   ]
  },
  {
   "cell_type": "code",
   "execution_count": null,
   "metadata": {},
   "outputs": [],
   "source": [
    "from abc import ABC, abstractmethod\n",
    "import math\n",
    "\n",
    "class MathFunction(ABC):\n",
    "    @abstractmethod\n",
    "    def evaluate(self, x):\n",
    "        pass"
   ]
  },
  {
   "cell_type": "code",
   "execution_count": null,
   "metadata": {},
   "outputs": [],
   "source": [
    "class LinearFunction(MathFunction):\n",
    "    def __init__(self, m, b):\n",
    "        self.m = m  # Pendiente\n",
    "        self.b = b  # Intersección\n",
    "\n",
    "    def evaluate(self, x):\n",
    "        return self.m * x + self.b\n",
    "\n",
    "class QuadraticFunction(MathFunction):\n",
    "    def __init__(self, a, b, c):\n",
    "        self.a = a  # Coeficiente cuadrático\n",
    "        self.b = b  # Coeficiente lineal\n",
    "        self.c = c  # Término constante\n",
    "\n",
    "    def evaluate(self, x):\n",
    "        return self.a * x**2 + self.b * x + self.c\n",
    "\n",
    "class ExponentialFunction(MathFunction):\n",
    "    def __init__(self, base):\n",
    "        self.base = base  # Base de la función exponencial\n",
    "\n",
    "    def evaluate(self, x):\n",
    "        return self.base ** x"
   ]
  },
  {
   "cell_type": "code",
   "execution_count": null,
   "metadata": {},
   "outputs": [],
   "source": [
    "class MathFunctionFactory:\n",
    "    @staticmethod\n",
    "    def create_function(function_type, *args):\n",
    "        if function_type == \"linear\":\n",
    "            return LinearFunction(*args)  # args = (m, b)\n",
    "        elif function_type == \"quadratic\":\n",
    "            return QuadraticFunction(*args)  # args = (a, b, c)\n",
    "        elif function_type == \"exponential\":\n",
    "            return ExponentialFunction(*args)  # args = (base,)\n",
    "        else:\n",
    "            raise ValueError(\"Tipo de función no soportado.\")"
   ]
  },
  {
   "cell_type": "markdown",
   "metadata": {},
   "source": [
    "- Extensibilidad: Con esta estructura, es fácil añadir nuevas funciones matemáticas (por ejemplo, logarítmica) creando una nueva subclase y modificando la fábrica, sin alterar el código de otros módulos.\n",
    "- Desacoplamiento: La creación de objetos está separada de su implementación, por lo que el cliente solo necesita conocer la fábrica y el tipo de función, sin preocuparse por los detalles de cada clase.\n",
    "- Flexibilidad y mantenibilidad: Se puede modificar o mejorar cada clase de función individualmente sin cambiar la forma en que se crean o acceden los objetos.\n",
    "- El patrón Factory es ideal para estos casos, ya que permite generar objetos de diferentes tipos sin acoplar el código del cliente a clases específicas, haciendo el sistema más modular y escalable."
   ]
  }
 ],
 "metadata": {
  "kernelspec": {
   "display_name": "Python 3",
   "language": "python",
   "name": "python3"
  },
  "language_info": {
   "name": "python",
   "version": "3.10.11"
  }
 },
 "nbformat": 4,
 "nbformat_minor": 2
}
